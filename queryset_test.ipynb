{
 "cells": [
  {
   "cell_type": "code",
   "execution_count": 3,
   "outputs": [],
   "source": [
    "import os\n",
    "os.environ['DJANGO_SETTINGS_MODULE']='askcompany2.settings'\n",
    "os.environ['DJANGO_ALLOW_ASYNC_UNSAFE'] = \"true\"\n",
    "import django\n",
    "django.setup()\n"
   ],
   "metadata": {
    "collapsed": false,
    "pycharm": {
     "name": "#%%\n"
    }
   }
  },
  {
   "cell_type": "code",
   "execution_count": 4,
   "outputs": [],
   "source": [
    "from instagram.models import Post"
   ],
   "metadata": {
    "collapsed": false,
    "pycharm": {
     "name": "#%%\n"
    }
   }
  },
  {
   "cell_type": "code",
   "execution_count": 8,
   "outputs": [
    {
     "name": "stdout",
     "output_type": "stream",
     "text": [
      "SELECT \"instagram_post\".\"id\", \"instagram_post\".\"message\", \"instagram_post\".\"photo\", \"instagram_post\".\"is_public\", \"instagram_post\".\"created_at\", \"instagram_post\".\"updated_at\" FROM \"instagram_post\"\n"
     ]
    }
   ],
   "source": [
    "print(Post.objects.all().query)"
   ],
   "metadata": {
    "collapsed": false,
    "pycharm": {
     "name": "#%%\n"
    }
   }
  },
  {
   "cell_type": "code",
   "execution_count": 11,
   "outputs": [
    {
     "name": "stdout",
     "output_type": "stream",
     "text": [
      "SELECT \"instagram_post\".\"id\", \"instagram_post\".\"message\", \"instagram_post\".\"photo\", \"instagram_post\".\"is_public\", \"instagram_post\".\"created_at\", \"instagram_post\".\"updated_at\" FROM \"instagram_post\" ORDER BY \"instagram_post\".\"id\" ASC LIMIT 2\n"
     ]
    }
   ],
   "source": [
    "print(Post.objects.all().order_by('id')[:2].query)"
   ],
   "metadata": {
    "collapsed": false,
    "pycharm": {
     "name": "#%%\n"
    }
   }
  },
  {
   "cell_type": "code",
   "execution_count": 3,
   "outputs": [],
   "source": [
    "# 데이터 뻥튀기"
   ],
   "metadata": {
    "collapsed": false,
    "pycharm": {
     "name": "#%%\n"
    }
   }
  },
  {
   "cell_type": "code",
   "execution_count": 5,
   "outputs": [],
   "source": [
    "post = Post.objects.all().first()"
   ],
   "metadata": {
    "collapsed": false,
    "pycharm": {
     "name": "#%%\n"
    }
   }
  },
  {
   "cell_type": "code",
   "execution_count": 6,
   "outputs": [
    {
     "data": {
      "text/plain": "1"
     },
     "execution_count": 6,
     "metadata": {},
     "output_type": "execute_result"
    }
   ],
   "source": [
    "post.pk"
   ],
   "metadata": {
    "collapsed": false,
    "pycharm": {
     "name": "#%%\n"
    }
   }
  },
  {
   "cell_type": "code",
   "execution_count": 7,
   "outputs": [],
   "source": [
    "post.pk = None"
   ],
   "metadata": {
    "collapsed": false,
    "pycharm": {
     "name": "#%%\n"
    }
   }
  },
  {
   "cell_type": "code",
   "execution_count": 8,
   "outputs": [],
   "source": [
    "post.save()"
   ],
   "metadata": {
    "collapsed": false,
    "pycharm": {
     "name": "#%%\n"
    }
   }
  },
  {
   "cell_type": "code",
   "execution_count": 9,
   "outputs": [],
   "source": [
    "post_list = list(Post.objects.all())"
   ],
   "metadata": {
    "collapsed": false,
    "pycharm": {
     "name": "#%%\n"
    }
   }
  },
  {
   "cell_type": "code",
   "execution_count": 10,
   "outputs": [],
   "source": [
    "import random"
   ],
   "metadata": {
    "collapsed": false,
    "pycharm": {
     "name": "#%%\n"
    }
   }
  },
  {
   "cell_type": "code",
   "execution_count": 17,
   "outputs": [
    {
     "data": {
      "text/plain": "<Post: 첫번째 메세지>"
     },
     "execution_count": 17,
     "metadata": {},
     "output_type": "execute_result"
    }
   ],
   "source": [
    "random.choice(post_list)"
   ],
   "metadata": {
    "collapsed": false,
    "pycharm": {
     "name": "#%%\n"
    }
   }
  },
  {
   "cell_type": "code",
   "execution_count": 18,
   "outputs": [],
   "source": [
    "for i in range(100):\n",
    "    post = random.choice(post_list)\n",
    "    post.pk = None\n",
    "    post.save()"
   ],
   "metadata": {
    "collapsed": false,
    "pycharm": {
     "name": "#%%\n"
    }
   }
  },
  {
   "cell_type": "code",
   "execution_count": 1,
   "outputs": [],
   "source": [
    "##  기존 데이터 뻥뒤기"
   ],
   "metadata": {
    "collapsed": false,
    "pycharm": {
     "name": "#%%\n"
    }
   }
  },
  {
   "cell_type": "code",
   "execution_count": 5,
   "outputs": [],
   "source": [
    "post_list = list(Post.objects.all())"
   ],
   "metadata": {
    "collapsed": false,
    "pycharm": {
     "name": "#%%\n"
    }
   }
  },
  {
   "cell_type": "code",
   "execution_count": 6,
   "outputs": [],
   "source": [
    "import random"
   ],
   "metadata": {
    "collapsed": false,
    "pycharm": {
     "name": "#%%\n"
    }
   }
  },
  {
   "cell_type": "code",
   "execution_count": 7,
   "outputs": [],
   "source": [
    "for post in post_list:\n",
    "    year = random.choice(range(1990, 2022))\n",
    "    month = random.choice(range(1,13))\n",
    "    post.created_at = post.created_at.replace(year=year, month=month)\n",
    "    post.save()\n"
   ],
   "metadata": {
    "collapsed": false,
    "pycharm": {
     "name": "#%%\n"
    }
   }
  },
  {
   "cell_type": "code",
   "execution_count": 11,
   "outputs": [
    {
     "data": {
      "text/plain": "<QuerySet [(1, 1, '첫번째 메세지', '', False, datetime.datetime(2007, 8, 7, 13, 20, 22, 819533, tzinfo=datetime.timezone.utc), datetime.datetime(2023, 1, 7, 21, 3, 22, 473671, tzinfo=datetime.timezone.utc)), (2, 1, '두번째 메세지', '', True, datetime.datetime(2004, 1, 7, 13, 20, 29, 403056, tzinfo=datetime.timezone.utc), datetime.datetime(2023, 1, 7, 21, 3, 22, 480851, tzinfo=datetime.timezone.utc)), (3, 1, '세번째 메세지', 'instagram/post/20221208/test2.png', True, datetime.datetime(2014, 10, 7, 13, 20, 43, 866293, tzinfo=datetime.timezone.utc), datetime.datetime(2023, 1, 7, 21, 3, 22, 485724, tzinfo=datetime.timezone.utc)), (4, 1, '첫번째 메세지', '', False, datetime.datetime(2007, 12, 6, 21, 51, 3, 91730, tzinfo=datetime.timezone.utc), datetime.datetime(2023, 1, 7, 21, 3, 22, 489427, tzinfo=datetime.timezone.utc)), (5, 1, '세번째 메세지', 'instagram/post/20221208/test2.png', True, datetime.datetime(2021, 4, 6, 21, 53, 28, 15878, tzinfo=datetime.timezone.utc), datetime.datetime(2023, 1, 7, 21, 3, 22, 494153, tzinfo=datetime.timezone.utc)), (6, 1, '첫번째 메세지', '', False, datetime.datetime(2021, 10, 6, 21, 53, 28, 43935, tzinfo=datetime.timezone.utc), datetime.datetime(2023, 1, 7, 21, 3, 22, 498318, tzinfo=datetime.timezone.utc)), (7, 1, '세번째 메세지', 'instagram/post/20221208/test2.png', True, datetime.datetime(2017, 10, 6, 21, 53, 28, 48914, tzinfo=datetime.timezone.utc), datetime.datetime(2023, 1, 7, 21, 3, 22, 502310, tzinfo=datetime.timezone.utc)), (8, 1, '첫번째 메세지', '', False, datetime.datetime(2003, 10, 6, 21, 53, 28, 53898, tzinfo=datetime.timezone.utc), datetime.datetime(2023, 1, 7, 21, 3, 22, 505829, tzinfo=datetime.timezone.utc)), (9, 1, '첫번째 메세지', '', False, datetime.datetime(1999, 7, 6, 21, 53, 28, 69847, tzinfo=datetime.timezone.utc), datetime.datetime(2023, 1, 7, 21, 3, 22, 511024, tzinfo=datetime.timezone.utc)), (10, 1, '세번째 메세지', 'instagram/post/20221208/test2.png', True, datetime.datetime(2011, 2, 6, 21, 53, 28, 74828, tzinfo=datetime.timezone.utc), datetime.datetime(2023, 1, 7, 21, 3, 22, 515171, tzinfo=datetime.timezone.utc)), (11, 1, '두번째 메세지', '', True, datetime.datetime(1998, 3, 6, 21, 53, 28, 79811, tzinfo=datetime.timezone.utc), datetime.datetime(2023, 1, 7, 21, 3, 22, 520414, tzinfo=datetime.timezone.utc)), (12, 1, '세번째 메세지', 'instagram/post/20221208/test2.png', True, datetime.datetime(1991, 4, 6, 21, 53, 28, 84794, tzinfo=datetime.timezone.utc), datetime.datetime(2023, 1, 7, 21, 3, 22, 523898, tzinfo=datetime.timezone.utc)), (13, 1, '첫번째 메세지', '', False, datetime.datetime(1992, 10, 6, 21, 53, 28, 89778, tzinfo=datetime.timezone.utc), datetime.datetime(2023, 1, 7, 21, 3, 22, 527283, tzinfo=datetime.timezone.utc)), (14, 1, '두번째 메세지', '', True, datetime.datetime(2010, 2, 6, 21, 53, 28, 94763, tzinfo=datetime.timezone.utc), datetime.datetime(2023, 1, 7, 21, 3, 22, 531115, tzinfo=datetime.timezone.utc)), (15, 1, '첫번째 메세지', '', False, datetime.datetime(1992, 9, 6, 21, 53, 28, 99744, tzinfo=datetime.timezone.utc), datetime.datetime(2023, 1, 7, 21, 3, 22, 534623, tzinfo=datetime.timezone.utc)), (16, 1, '두번째 메세지', '', True, datetime.datetime(1990, 6, 6, 21, 53, 28, 104728, tzinfo=datetime.timezone.utc), datetime.datetime(2023, 1, 7, 21, 3, 22, 538213, tzinfo=datetime.timezone.utc)), (17, 1, '두번째 메세지', '', True, datetime.datetime(2021, 8, 6, 21, 53, 28, 109711, tzinfo=datetime.timezone.utc), datetime.datetime(2023, 1, 7, 21, 3, 22, 541494, tzinfo=datetime.timezone.utc)), (18, 1, '첫번째 메세지', '', False, datetime.datetime(1999, 4, 6, 21, 53, 28, 113698, tzinfo=datetime.timezone.utc), datetime.datetime(2023, 1, 7, 21, 3, 22, 545042, tzinfo=datetime.timezone.utc)), (19, 1, '두번째 메세지', '', True, datetime.datetime(1994, 3, 6, 21, 53, 28, 118846, tzinfo=datetime.timezone.utc), datetime.datetime(2023, 1, 7, 21, 3, 22, 549205, tzinfo=datetime.timezone.utc)), (20, 1, '세번째 메세지', 'instagram/post/20221208/test2.png', True, datetime.datetime(2006, 3, 6, 21, 53, 28, 123830, tzinfo=datetime.timezone.utc), datetime.datetime(2023, 1, 7, 21, 3, 22, 553652, tzinfo=datetime.timezone.utc)), '...(remaining elements truncated)...']>"
     },
     "execution_count": 11,
     "metadata": {},
     "output_type": "execute_result"
    }
   ],
   "source": [
    "Post.objects.all().values_list()"
   ],
   "metadata": {
    "collapsed": false,
    "pycharm": {
     "name": "#%%\n"
    }
   }
  },
  {
   "cell_type": "code",
   "execution_count": 12,
   "outputs": [
    {
     "data": {
      "text/plain": "<QuerySet [(2007,), (2004,), (2014,), (2007,), (2021,), (2021,), (2017,), (2003,), (1999,), (2011,), (1998,), (1991,), (1992,), (2010,), (1992,), (1990,), (2021,), (1999,), (1994,), (2006,), '...(remaining elements truncated)...']>"
     },
     "execution_count": 12,
     "metadata": {},
     "output_type": "execute_result"
    }
   ],
   "source": [
    "Post.objects.all().values_list('created_at__year')"
   ],
   "metadata": {
    "collapsed": false,
    "pycharm": {
     "name": "#%%\n"
    }
   }
  },
  {
   "cell_type": "code",
   "execution_count": 13,
   "outputs": [
    {
     "data": {
      "text/plain": "<QuerySet [2007, 2004, 2014, 2007, 2021, 2021, 2017, 2003, 1999, 2011, 1998, 1991, 1992, 2010, 1992, 1990, 2021, 1999, 1994, 2006, '...(remaining elements truncated)...']>"
     },
     "execution_count": 13,
     "metadata": {},
     "output_type": "execute_result"
    }
   ],
   "source": [
    "Post.objects.all().values_list('created_at__year', flat=True)"
   ],
   "metadata": {
    "collapsed": false,
    "pycharm": {
     "name": "#%%\n"
    }
   }
  },
  {
   "cell_type": "code",
   "execution_count": 14,
   "outputs": [],
   "source": [
    "year_list = _"
   ],
   "metadata": {
    "collapsed": false,
    "pycharm": {
     "name": "#%%\n"
    }
   }
  },
  {
   "cell_type": "code",
   "execution_count": 15,
   "outputs": [
    {
     "data": {
      "text/plain": "<QuerySet [2007, 2004, 2014, 2007, 2021, 2021, 2017, 2003, 1999, 2011, 1998, 1991, 1992, 2010, 1992, 1990, 2021, 1999, 1994, 2006, '...(remaining elements truncated)...']>"
     },
     "execution_count": 15,
     "metadata": {},
     "output_type": "execute_result"
    }
   ],
   "source": [
    "year_list"
   ],
   "metadata": {
    "collapsed": false,
    "pycharm": {
     "name": "#%%\n"
    }
   }
  },
  {
   "cell_type": "code",
   "execution_count": 17,
   "outputs": [
    {
     "data": {
      "text/plain": "{1990,\n 1991,\n 1992,\n 1993,\n 1994,\n 1995,\n 1996,\n 1997,\n 1998,\n 1999,\n 2000,\n 2001,\n 2002,\n 2003,\n 2004,\n 2005,\n 2006,\n 2007,\n 2008,\n 2009,\n 2010,\n 2011,\n 2012,\n 2013,\n 2014,\n 2015,\n 2016,\n 2017,\n 2018,\n 2019,\n 2020,\n 2021}"
     },
     "execution_count": 17,
     "metadata": {},
     "output_type": "execute_result"
    }
   ],
   "source": [
    "set(year_list)"
   ],
   "metadata": {
    "collapsed": false,
    "pycharm": {
     "name": "#%%\n"
    }
   }
  },
  {
   "cell_type": "code",
   "execution_count": null,
   "outputs": [],
   "source": [],
   "metadata": {
    "collapsed": false,
    "pycharm": {
     "name": "#%%\n"
    }
   }
  }
 ],
 "metadata": {
  "kernelspec": {
   "display_name": "Python 3",
   "language": "python",
   "name": "python3"
  },
  "language_info": {
   "codemirror_mode": {
    "name": "ipython",
    "version": 2
   },
   "file_extension": ".py",
   "mimetype": "text/x-python",
   "name": "python",
   "nbconvert_exporter": "python",
   "pygments_lexer": "ipython2",
   "version": "2.7.6"
  }
 },
 "nbformat": 4,
 "nbformat_minor": 0
}