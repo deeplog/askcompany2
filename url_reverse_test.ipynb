{
 "cells": [
  {
   "cell_type": "code",
   "execution_count": 1,
   "outputs": [],
   "source": [
    "import os\n",
    "os.environ['DJANGO_SETTINGS_MODULE']='askcompany2.settings'\n",
    "os.environ['DJANGO_ALLOW_ASYNC_UNSAFE'] = \"true\"\n",
    "import django\n",
    "django.setup()"
   ],
   "metadata": {
    "collapsed": false
   }
  },
  {
   "cell_type": "code",
   "execution_count": 2,
   "outputs": [],
   "source": [
    "from django.urls import reverse"
   ],
   "metadata": {
    "collapsed": false
   }
  },
  {
   "cell_type": "code",
   "execution_count": 3,
   "outputs": [],
   "source": [
    "from django.shortcuts import resolve_url"
   ],
   "metadata": {
    "collapsed": false
   }
  },
  {
   "cell_type": "code",
   "execution_count": 7,
   "outputs": [
    {
     "data": {
      "text/plain": "'/k-instagram/'"
     },
     "execution_count": 7,
     "metadata": {},
     "output_type": "execute_result"
    }
   ],
   "source": [
    "reverse('instagram:post_list')"
   ],
   "metadata": {
    "collapsed": false
   }
  },
  {
   "cell_type": "code",
   "execution_count": 8,
   "outputs": [
    {
     "ename": "NoReverseMatch",
     "evalue": "Reverse for 'post_detail' with no arguments not found. 1 pattern(s) tried: ['k\\\\-instagram/(?P<pk>[0-9]+)/\\\\Z']",
     "output_type": "error",
     "traceback": [
      "\u001B[1;31m---------------------------------------------------------------------------\u001B[0m",
      "\u001B[1;31mNoReverseMatch\u001B[0m                            Traceback (most recent call last)",
      "Cell \u001B[1;32mIn[8], line 1\u001B[0m\n\u001B[1;32m----> 1\u001B[0m \u001B[43mreverse\u001B[49m\u001B[43m(\u001B[49m\u001B[38;5;124;43m'\u001B[39;49m\u001B[38;5;124;43minstagram:post_detail\u001B[39;49m\u001B[38;5;124;43m'\u001B[39;49m\u001B[43m)\u001B[49m\n",
      "File \u001B[1;32mD:\\dev\\askcompany2\\venv\\Lib\\site-packages\\django\\urls\\base.py:88\u001B[0m, in \u001B[0;36mreverse\u001B[1;34m(viewname, urlconf, args, kwargs, current_app)\u001B[0m\n\u001B[0;32m     83\u001B[0m     \u001B[38;5;28;01mif\u001B[39;00m ns_pattern:\n\u001B[0;32m     84\u001B[0m         resolver \u001B[38;5;241m=\u001B[39m get_ns_resolver(\n\u001B[0;32m     85\u001B[0m             ns_pattern, resolver, \u001B[38;5;28mtuple\u001B[39m(ns_converters\u001B[38;5;241m.\u001B[39mitems())\n\u001B[0;32m     86\u001B[0m         )\n\u001B[1;32m---> 88\u001B[0m \u001B[38;5;28;01mreturn\u001B[39;00m \u001B[43mresolver\u001B[49m\u001B[38;5;241;43m.\u001B[39;49m\u001B[43m_reverse_with_prefix\u001B[49m\u001B[43m(\u001B[49m\u001B[43mview\u001B[49m\u001B[43m,\u001B[49m\u001B[43m \u001B[49m\u001B[43mprefix\u001B[49m\u001B[43m,\u001B[49m\u001B[43m \u001B[49m\u001B[38;5;241;43m*\u001B[39;49m\u001B[43margs\u001B[49m\u001B[43m,\u001B[49m\u001B[43m \u001B[49m\u001B[38;5;241;43m*\u001B[39;49m\u001B[38;5;241;43m*\u001B[39;49m\u001B[43mkwargs\u001B[49m\u001B[43m)\u001B[49m\n",
      "File \u001B[1;32mD:\\dev\\askcompany2\\venv\\Lib\\site-packages\\django\\urls\\resolvers.py:828\u001B[0m, in \u001B[0;36mURLResolver._reverse_with_prefix\u001B[1;34m(self, lookup_view, _prefix, *args, **kwargs)\u001B[0m\n\u001B[0;32m    823\u001B[0m \u001B[38;5;28;01melse\u001B[39;00m:\n\u001B[0;32m    824\u001B[0m     msg \u001B[38;5;241m=\u001B[39m (\n\u001B[0;32m    825\u001B[0m         \u001B[38;5;124m\"\u001B[39m\u001B[38;5;124mReverse for \u001B[39m\u001B[38;5;124m'\u001B[39m\u001B[38;5;132;01m%(view)s\u001B[39;00m\u001B[38;5;124m'\u001B[39m\u001B[38;5;124m not found. \u001B[39m\u001B[38;5;124m'\u001B[39m\u001B[38;5;132;01m%(view)s\u001B[39;00m\u001B[38;5;124m'\u001B[39m\u001B[38;5;124m is not \u001B[39m\u001B[38;5;124m\"\u001B[39m\n\u001B[0;32m    826\u001B[0m         \u001B[38;5;124m\"\u001B[39m\u001B[38;5;124ma valid view function or pattern name.\u001B[39m\u001B[38;5;124m\"\u001B[39m \u001B[38;5;241m%\u001B[39m {\u001B[38;5;124m\"\u001B[39m\u001B[38;5;124mview\u001B[39m\u001B[38;5;124m\"\u001B[39m: lookup_view_s}\n\u001B[0;32m    827\u001B[0m     )\n\u001B[1;32m--> 828\u001B[0m \u001B[38;5;28;01mraise\u001B[39;00m NoReverseMatch(msg)\n",
      "\u001B[1;31mNoReverseMatch\u001B[0m: Reverse for 'post_detail' with no arguments not found. 1 pattern(s) tried: ['k\\\\-instagram/(?P<pk>[0-9]+)/\\\\Z']"
     ]
    }
   ],
   "source": [
    "reverse('instagram:post_detail')"
   ],
   "metadata": {
    "collapsed": false
   }
  },
  {
   "cell_type": "code",
   "execution_count": 9,
   "outputs": [
    {
     "data": {
      "text/plain": "'/k-instagram/123/'"
     },
     "execution_count": 9,
     "metadata": {},
     "output_type": "execute_result"
    }
   ],
   "source": [
    "reverse('instagram:post_detail', args=[123])"
   ],
   "metadata": {
    "collapsed": false
   }
  },
  {
   "cell_type": "code",
   "execution_count": 10,
   "outputs": [
    {
     "data": {
      "text/plain": "'/k-instagram/123/'"
     },
     "execution_count": 10,
     "metadata": {},
     "output_type": "execute_result"
    }
   ],
   "source": [
    "resolve_url('instagram:post_detail', 123)"
   ],
   "metadata": {
    "collapsed": false
   }
  },
  {
   "cell_type": "code",
   "execution_count": 11,
   "outputs": [
    {
     "data": {
      "text/plain": "'/k-instagram/123/'"
     },
     "execution_count": 11,
     "metadata": {},
     "output_type": "execute_result"
    }
   ],
   "source": [
    "resolve_url('instagram:post_detail', pk=123)"
   ],
   "metadata": {
    "collapsed": false
   }
  },
  {
   "cell_type": "code",
   "execution_count": 12,
   "outputs": [
    {
     "ename": "NoReverseMatch",
     "evalue": "Reverse for 'post_detail' with keyword arguments '{'pk': 'abc'}' not found. 1 pattern(s) tried: ['k\\\\-instagram/(?P<pk>[0-9]+)/\\\\Z']",
     "output_type": "error",
     "traceback": [
      "\u001B[1;31m---------------------------------------------------------------------------\u001B[0m",
      "\u001B[1;31mNoReverseMatch\u001B[0m                            Traceback (most recent call last)",
      "Cell \u001B[1;32mIn[12], line 1\u001B[0m\n\u001B[1;32m----> 1\u001B[0m \u001B[43mresolve_url\u001B[49m\u001B[43m(\u001B[49m\u001B[38;5;124;43m'\u001B[39;49m\u001B[38;5;124;43minstagram:post_detail\u001B[39;49m\u001B[38;5;124;43m'\u001B[39;49m\u001B[43m,\u001B[49m\u001B[43m \u001B[49m\u001B[43mpk\u001B[49m\u001B[38;5;241;43m=\u001B[39;49m\u001B[38;5;124;43m'\u001B[39;49m\u001B[38;5;124;43mabc\u001B[39;49m\u001B[38;5;124;43m'\u001B[39;49m\u001B[43m)\u001B[49m\n",
      "File \u001B[1;32mD:\\dev\\askcompany2\\venv\\Lib\\site-packages\\django\\shortcuts.py:145\u001B[0m, in \u001B[0;36mresolve_url\u001B[1;34m(to, *args, **kwargs)\u001B[0m\n\u001B[0;32m    143\u001B[0m \u001B[38;5;66;03m# Next try a reverse URL resolution.\u001B[39;00m\n\u001B[0;32m    144\u001B[0m \u001B[38;5;28;01mtry\u001B[39;00m:\n\u001B[1;32m--> 145\u001B[0m     \u001B[38;5;28;01mreturn\u001B[39;00m \u001B[43mreverse\u001B[49m\u001B[43m(\u001B[49m\u001B[43mto\u001B[49m\u001B[43m,\u001B[49m\u001B[43m \u001B[49m\u001B[43margs\u001B[49m\u001B[38;5;241;43m=\u001B[39;49m\u001B[43margs\u001B[49m\u001B[43m,\u001B[49m\u001B[43m \u001B[49m\u001B[43mkwargs\u001B[49m\u001B[38;5;241;43m=\u001B[39;49m\u001B[43mkwargs\u001B[49m\u001B[43m)\u001B[49m\n\u001B[0;32m    146\u001B[0m \u001B[38;5;28;01mexcept\u001B[39;00m NoReverseMatch:\n\u001B[0;32m    147\u001B[0m     \u001B[38;5;66;03m# If this is a callable, re-raise.\u001B[39;00m\n\u001B[0;32m    148\u001B[0m     \u001B[38;5;28;01mif\u001B[39;00m callable(to):\n",
      "File \u001B[1;32mD:\\dev\\askcompany2\\venv\\Lib\\site-packages\\django\\urls\\base.py:88\u001B[0m, in \u001B[0;36mreverse\u001B[1;34m(viewname, urlconf, args, kwargs, current_app)\u001B[0m\n\u001B[0;32m     83\u001B[0m     \u001B[38;5;28;01mif\u001B[39;00m ns_pattern:\n\u001B[0;32m     84\u001B[0m         resolver \u001B[38;5;241m=\u001B[39m get_ns_resolver(\n\u001B[0;32m     85\u001B[0m             ns_pattern, resolver, \u001B[38;5;28mtuple\u001B[39m(ns_converters\u001B[38;5;241m.\u001B[39mitems())\n\u001B[0;32m     86\u001B[0m         )\n\u001B[1;32m---> 88\u001B[0m \u001B[38;5;28;01mreturn\u001B[39;00m \u001B[43mresolver\u001B[49m\u001B[38;5;241;43m.\u001B[39;49m\u001B[43m_reverse_with_prefix\u001B[49m\u001B[43m(\u001B[49m\u001B[43mview\u001B[49m\u001B[43m,\u001B[49m\u001B[43m \u001B[49m\u001B[43mprefix\u001B[49m\u001B[43m,\u001B[49m\u001B[43m \u001B[49m\u001B[38;5;241;43m*\u001B[39;49m\u001B[43margs\u001B[49m\u001B[43m,\u001B[49m\u001B[43m \u001B[49m\u001B[38;5;241;43m*\u001B[39;49m\u001B[38;5;241;43m*\u001B[39;49m\u001B[43mkwargs\u001B[49m\u001B[43m)\u001B[49m\n",
      "File \u001B[1;32mD:\\dev\\askcompany2\\venv\\Lib\\site-packages\\django\\urls\\resolvers.py:828\u001B[0m, in \u001B[0;36mURLResolver._reverse_with_prefix\u001B[1;34m(self, lookup_view, _prefix, *args, **kwargs)\u001B[0m\n\u001B[0;32m    823\u001B[0m \u001B[38;5;28;01melse\u001B[39;00m:\n\u001B[0;32m    824\u001B[0m     msg \u001B[38;5;241m=\u001B[39m (\n\u001B[0;32m    825\u001B[0m         \u001B[38;5;124m\"\u001B[39m\u001B[38;5;124mReverse for \u001B[39m\u001B[38;5;124m'\u001B[39m\u001B[38;5;132;01m%(view)s\u001B[39;00m\u001B[38;5;124m'\u001B[39m\u001B[38;5;124m not found. \u001B[39m\u001B[38;5;124m'\u001B[39m\u001B[38;5;132;01m%(view)s\u001B[39;00m\u001B[38;5;124m'\u001B[39m\u001B[38;5;124m is not \u001B[39m\u001B[38;5;124m\"\u001B[39m\n\u001B[0;32m    826\u001B[0m         \u001B[38;5;124m\"\u001B[39m\u001B[38;5;124ma valid view function or pattern name.\u001B[39m\u001B[38;5;124m\"\u001B[39m \u001B[38;5;241m%\u001B[39m {\u001B[38;5;124m\"\u001B[39m\u001B[38;5;124mview\u001B[39m\u001B[38;5;124m\"\u001B[39m: lookup_view_s}\n\u001B[0;32m    827\u001B[0m     )\n\u001B[1;32m--> 828\u001B[0m \u001B[38;5;28;01mraise\u001B[39;00m NoReverseMatch(msg)\n",
      "\u001B[1;31mNoReverseMatch\u001B[0m: Reverse for 'post_detail' with keyword arguments '{'pk': 'abc'}' not found. 1 pattern(s) tried: ['k\\\\-instagram/(?P<pk>[0-9]+)/\\\\Z']"
     ]
    }
   ],
   "source": [
    "resolve_url('instagram:post_detail', pk='abc')"
   ],
   "metadata": {
    "collapsed": false
   }
  },
  {
   "cell_type": "code",
   "execution_count": 13,
   "outputs": [],
   "source": [
    "from instagram.models import Post"
   ],
   "metadata": {
    "collapsed": false,
    "pycharm": {
     "name": "#%%ㅡ\n"
    }
   }
  },
  {
   "cell_type": "code",
   "execution_count": 14,
   "outputs": [
    {
     "data": {
      "text/plain": "'/k-instagram/1/'"
     },
     "execution_count": 14,
     "metadata": {},
     "output_type": "execute_result"
    }
   ],
   "source": [
    "resolve_url(Post.objects.first())"
   ],
   "metadata": {
    "collapsed": false
   }
  },
  {
   "cell_type": "code",
   "execution_count": 15,
   "outputs": [
    {
     "data": {
      "text/plain": "'/k-instagram/1/'"
     },
     "execution_count": 15,
     "metadata": {},
     "output_type": "execute_result"
    }
   ],
   "source": [
    "resolve_url(Post.objects.first())"
   ],
   "metadata": {
    "collapsed": false
   }
  },
  {
   "cell_type": "code",
   "execution_count": null,
   "outputs": [],
   "source": [],
   "metadata": {
    "collapsed": false
   }
  }
 ],
 "metadata": {
  "kernelspec": {
   "display_name": "Python 3",
   "language": "python",
   "name": "python3"
  },
  "language_info": {
   "codemirror_mode": {
    "name": "ipython",
    "version": 2
   },
   "file_extension": ".py",
   "mimetype": "text/x-python",
   "name": "python",
   "nbconvert_exporter": "python",
   "pygments_lexer": "ipython2",
   "version": "2.7.6"
  }
 },
 "nbformat": 4,
 "nbformat_minor": 0
}
